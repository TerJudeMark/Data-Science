{
 "cells": [
  {
   "cell_type": "markdown",
   "id": "d219479f",
   "metadata": {},
   "source": [
    "# Data Science Tools and Ecosystem #"
   ]
  },
  {
   "cell_type": "markdown",
   "id": "a6bf8a4a",
   "metadata": {},
   "source": [
    "This notebook summarizes Data Science tools and Ecosystem. "
   ]
  },
  {
   "cell_type": "markdown",
   "id": "5b5e8737",
   "metadata": {},
   "source": [
    "**objectives:**\n",
    "* List popular languages used by Data Scientist\n",
    "* List commonly used libraries by Data Scientist\n",
    "* List some of the popular Open Source Data Science Tools\n",
    "* Evaluate simple arithmetic expressions in Python"
   ]
  },
  {
   "cell_type": "markdown",
   "id": "90ec5560",
   "metadata": {},
   "source": [
    "Popular languages commonly used by Data Scientist;\n",
    "1. Python\n",
    "2. R\n",
    "3. SQL\n",
    "4. Scala\n",
    "5. Java\n",
    "6. C++\n",
    "7. Julia"
   ]
  },
  {
   "cell_type": "markdown",
   "id": "089efdb8",
   "metadata": {},
   "source": [
    "Libraries commonly used by Data Scientist include;\n",
    "1. Pandas\n",
    "2. Numpy\n",
    "3. Matplotlib\n",
    "4. Seaborn\n",
    "5. Scikit-learn\n",
    "6. Keras"
   ]
  },
  {
   "cell_type": "markdown",
   "id": "9bc81419",
   "metadata": {},
   "source": [
    "|Data Science Tools|\n",
    "|------------------|\n",
    "|Jupyter Notebook  |\n",
    "|JupyterLab        |\n",
    "|R Studio          |\n",
    "|Spyder            |\n"
   ]
  },
  {
   "cell_type": "markdown",
   "id": "1bf278c4",
   "metadata": {},
   "source": [
    "### Below are a few examples of evaluating arithmetic expressions in python ###"
   ]
  },
  {
   "cell_type": "code",
   "execution_count": 4,
   "id": "ebf6acc4",
   "metadata": {},
   "outputs": [
    {
     "data": {
      "text/plain": [
       "17"
      ]
     },
     "execution_count": 4,
     "metadata": {},
     "output_type": "execute_result"
    }
   ],
   "source": [
    "# This is a simple arithmetic expression to first multiply and then add the numbers.\n",
    "(3*4)+5"
   ]
  },
  {
   "cell_type": "code",
   "execution_count": 5,
   "id": "3f3dcd78",
   "metadata": {},
   "outputs": [
    {
     "data": {
      "text/plain": [
       "3.3333333333333335"
      ]
     },
     "execution_count": 5,
     "metadata": {},
     "output_type": "execute_result"
    }
   ],
   "source": [
    "# This will convert 200 minutes to hours by diving by 60\n",
    "(200/60)"
   ]
  },
  {
   "cell_type": "markdown",
   "id": "86df8d5d",
   "metadata": {},
   "source": [
    "## Author ##\n",
    "Jude Ter Mark"
   ]
  }
 ],
 "metadata": {
  "kernelspec": {
   "display_name": "Python 3 (ipykernel)",
   "language": "python",
   "name": "python3"
  },
  "language_info": {
   "codemirror_mode": {
    "name": "ipython",
    "version": 3
   },
   "file_extension": ".py",
   "mimetype": "text/x-python",
   "name": "python",
   "nbconvert_exporter": "python",
   "pygments_lexer": "ipython3",
   "version": "3.9.7"
  }
 },
 "nbformat": 4,
 "nbformat_minor": 5
}
